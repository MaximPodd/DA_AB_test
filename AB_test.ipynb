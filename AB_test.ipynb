{
 "cells": [
  {
   "cell_type": "code",
   "execution_count": 1,
   "id": "9d560f08-9605-4d2f-8c6c-4d19a463ba2b",
   "metadata": {},
   "outputs": [],
   "source": [
    "import pandas as pd\n",
    "import numpy as np\n",
    "import pandahouse \n",
    "from scipy import stats\n",
    "import seaborn as sns"
   ]
  },
  {
   "cell_type": "code",
   "execution_count": 2,
   "id": "c2e8b88f-16f9-4168-b41c-c9bf2c51e399",
   "metadata": {},
   "outputs": [],
   "source": [
    "connection = {'host': 'https://clickhouse.lab.karpov.courses',\n",
    "'database':'simulator_20250520',\n",
    "'user':'student',\n",
    "'password':'dpo_python_2020'\n",
    "}"
   ]
  },
  {
   "cell_type": "code",
   "execution_count": 3,
   "id": "c52ba023-849c-4485-877b-eff6b967853b",
   "metadata": {},
   "outputs": [],
   "source": [
    "q = '''\n",
    "SELECT exp_group, \n",
    "       user_id,\n",
    "       sum(action = 'like') as like,\n",
    "       sum(action = 'view') as view,\n",
    "       like/view as ctr\n",
    "FROM {db}.feed_actions\n",
    "WHERE exp_group in (1,2) and toDate(time) between '2025-05-02' and '2025-05-08'\n",
    "GROUP BY exp_group, user_id\n",
    "'''"
   ]
  },
  {
   "cell_type": "code",
   "execution_count": 4,
   "id": "155e8a37-fd32-4a9b-bb74-050405377e11",
   "metadata": {},
   "outputs": [
    {
     "data": {
      "text/html": [
       "<div>\n",
       "<style scoped>\n",
       "    .dataframe tbody tr th:only-of-type {\n",
       "        vertical-align: middle;\n",
       "    }\n",
       "\n",
       "    .dataframe tbody tr th {\n",
       "        vertical-align: top;\n",
       "    }\n",
       "\n",
       "    .dataframe thead th {\n",
       "        text-align: right;\n",
       "    }\n",
       "</style>\n",
       "<table border=\"1\" class=\"dataframe\">\n",
       "  <thead>\n",
       "    <tr style=\"text-align: right;\">\n",
       "      <th></th>\n",
       "      <th>exp_group</th>\n",
       "      <th>user_id</th>\n",
       "      <th>like</th>\n",
       "      <th>view</th>\n",
       "      <th>ctr</th>\n",
       "    </tr>\n",
       "  </thead>\n",
       "  <tbody>\n",
       "    <tr>\n",
       "      <th>0</th>\n",
       "      <td>1</td>\n",
       "      <td>109963</td>\n",
       "      <td>3</td>\n",
       "      <td>15</td>\n",
       "      <td>0.200000</td>\n",
       "    </tr>\n",
       "    <tr>\n",
       "      <th>1</th>\n",
       "      <td>1</td>\n",
       "      <td>26117</td>\n",
       "      <td>32</td>\n",
       "      <td>141</td>\n",
       "      <td>0.226950</td>\n",
       "    </tr>\n",
       "    <tr>\n",
       "      <th>2</th>\n",
       "      <td>1</td>\n",
       "      <td>138232</td>\n",
       "      <td>18</td>\n",
       "      <td>73</td>\n",
       "      <td>0.246575</td>\n",
       "    </tr>\n",
       "    <tr>\n",
       "      <th>3</th>\n",
       "      <td>1</td>\n",
       "      <td>26295</td>\n",
       "      <td>39</td>\n",
       "      <td>141</td>\n",
       "      <td>0.276596</td>\n",
       "    </tr>\n",
       "    <tr>\n",
       "      <th>4</th>\n",
       "      <td>1</td>\n",
       "      <td>18392</td>\n",
       "      <td>7</td>\n",
       "      <td>32</td>\n",
       "      <td>0.218750</td>\n",
       "    </tr>\n",
       "  </tbody>\n",
       "</table>\n",
       "</div>"
      ],
      "text/plain": [
       "   exp_group  user_id  like  view       ctr\n",
       "0          1   109963     3    15  0.200000\n",
       "1          1    26117    32   141  0.226950\n",
       "2          1   138232    18    73  0.246575\n",
       "3          1    26295    39   141  0.276596\n",
       "4          1    18392     7    32  0.218750"
      ]
     },
     "execution_count": 4,
     "metadata": {},
     "output_type": "execute_result"
    }
   ],
   "source": [
    "df = pandahouse.read_clickhouse(q, connection=connection)\n",
    "df.head()"
   ]
  },
  {
   "cell_type": "code",
   "execution_count": 5,
   "id": "f7856305-ac7a-4e4c-93fc-6501dfca87da",
   "metadata": {},
   "outputs": [
    {
     "data": {
      "image/png": "[encoded data removed]",
      "text/plain": [
       "<Figure size 432x288 with 1 Axes>"
      ]
     },
     "metadata": {
      "needs_background": "light"
     },
     "output_type": "display_data"
    }
   ],
   "source": [
    "sns.set(rc={'figure.figsize':(11.7,8.27)})\n",
    "\n",
    "groups = sns.histplot(data = df, \n",
    "              x='ctr', \n",
    "              hue='exp_group', \n",
    "              palette = ['r', 'b'],\n",
    "              alpha=0.5,\n",
    "              kde=False)"
   ]
  },
  {
   "cell_type": "markdown",
   "id": "ceefcd55-e674-4cad-b77c-819ce3120e8b",
   "metadata": {
    "tags": []
   },
   "source": [
    "### t-тест"
   ]
  },
  {
   "cell_type": "code",
   "execution_count": 8,
   "id": "c8e231a6-cd73-4a56-b161-9e3f674a5a17",
   "metadata": {},
   "outputs": [
    {
     "data": {
      "text/plain": [
       "Ttest_indResult(statistic=0.4051491913112757, pvalue=0.685373331140751)"
      ]
     },
     "execution_count": 8,
     "metadata": {},
     "output_type": "execute_result"
    }
   ],
   "source": [
    "# t-test\n",
    "stats.ttest_ind(df[df.exp_group==1].ctr,\n",
    "                df[df.exp_group==2].ctr,\n",
    "                equal_var=False)"
   ]
  },
  {
   "cell_type": "markdown",
   "id": "64ecc881-b892-44f2-bbe0-1e6b49b3ea4b",
   "metadata": {
    "tags": []
   },
   "source": [
    "### тест Манна-Уитни"
   ]
  },
  {
   "cell_type": "code",
   "execution_count": 6,
   "id": "64f59276-f12e-411a-899e-a5b80d17bf74",
   "metadata": {},
   "outputs": [
    {
     "data": {
      "text/plain": [
       "MannwhitneyuResult(statistic=43777627.0, pvalue=4.632205841806026e-45)"
      ]
     },
     "execution_count": 6,
     "metadata": {},
     "output_type": "execute_result"
    }
   ],
   "source": [
    "# Манна-Уитни\n",
    "stats.mannwhitneyu(df[df.exp_group == 2].ctr,\n",
    "                df[df.exp_group == 1].ctr)"
   ]
  },
  {
   "cell_type": "markdown",
   "id": "83f79607-be4f-44e6-8212-298534483c19",
   "metadata": {},
   "source": [
    "### t-тест со сглаживанием"
   ]
  },
  {
   "cell_type": "code",
   "execution_count": 7,
   "id": "12469c84-57de-4bfc-805a-140877635b1d",
   "metadata": {},
   "outputs": [
    {
     "data": {
      "text/plain": [
       "Ttest_indResult(statistic=1.9460491517027683, pvalue=0.05166679015318526)"
      ]
     },
     "execution_count": 7,
     "metadata": {},
     "output_type": "execute_result"
    }
   ],
   "source": [
    "# t-test со сглаживанием\n",
    "# функция сглаживания\n",
    "def get_smothed_ctr(user_likes, user_views, global_ctr, alpha):\n",
    "    smothed_ctr = (user_likes + alpha * global_ctr) / (user_views + alpha)\n",
    "    return smothed_ctr\n",
    "\n",
    "# рассчитываем глобальный CTR по группам\n",
    "global_ctr_1 = df[df.exp_group==1].like.sum()/df[df.exp_group==1].view.sum()\n",
    "global_ctr_2 = df[df.exp_group==2].like.sum()/df[df.exp_group==2].view.sum()\n",
    "\n",
    "# параметр сглаживания\n",
    "alpha = 5  \n",
    "\n",
    "\n",
    "df['smoothed_ctr'] = np.where(\n",
    "    df['exp_group'] == 1,\n",
    "    get_smothed_ctr(df['like'], df['view'], global_ctr_1, alpha),\n",
    "    get_smothed_ctr(df['like'], df['view'], global_ctr_2, alpha)\n",
    ")\n",
    "\n",
    "# t-test\n",
    "stats.ttest_ind(df[df.exp_group==1].smoothed_ctr,\n",
    "                df[df.exp_group==2].smoothed_ctr,\n",
    "                equal_var=False)"
   ]
  },
  {
   "cell_type": "markdown",
   "id": "74645830-f661-425e-9378-f14ab0a96dc7",
   "metadata": {},
   "source": [
    "### Пуассоновский бутстреп"
   ]
  },
  {
   "cell_type": "code",
   "execution_count": 10,
   "id": "70093d41-826a-4b17-9eb9-a9df4c61a330",
   "metadata": {},
   "outputs": [
    {
     "data": {
      "text/plain": [
       "<Axes: ylabel='Count'>"
      ]
     },
     "execution_count": 10,
     "metadata": {},
     "output_type": "execute_result"
    },
    {
     "data": {
      "image/png": "[encoded data removed]",
      "text/plain": [
       "<Figure size 432x288 with 1 Axes>"
      ]
     },
     "metadata": {
      "needs_background": "light"
     },
     "output_type": "display_data"
    }
   ],
   "source": [
    "def bootstrap(likes1, views1, likes2, views2, n_bootstrap=2000):\n",
    "\n",
    "    poisson_bootstraps1 = stats.poisson(1).rvs(\n",
    "        (n_bootstrap, len(likes1))).astype(np.int64)\n",
    "\n",
    "    poisson_bootstraps2 = stats.poisson(1).rvs(\n",
    "            (n_bootstrap, len(likes2))).astype(np.int64)\n",
    "    \n",
    "    globalCTR1 = (poisson_bootstraps1*likes1).sum(axis=1)/(poisson_bootstraps1*views1).sum(axis=1)\n",
    "    \n",
    "    globalCTR2 = (poisson_bootstraps2*likes2).sum(axis=1)/(poisson_bootstraps2*views2).sum(axis=1)\n",
    "\n",
    "    return globalCTR1, globalCTR2\n",
    "\n",
    "likes1 = df[df.exp_group == 1].like.to_numpy()\n",
    "views1 = df[df.exp_group == 1].view.to_numpy()\n",
    "likes2 = df[df.exp_group == 2].like.to_numpy()\n",
    "views2 = df[df.exp_group == 2].view.to_numpy()\n",
    "\n",
    "ctr1, ctr2 = bootstrap(likes1, views1, likes2, views2)\n",
    "\n",
    "sns.histplot(ctr1)\n",
    "sns.histplot(ctr2)"
   ]
  },
  {
   "cell_type": "markdown",
   "id": "71d73685-dba7-4bed-8c5d-4896fc621da3",
   "metadata": {},
   "source": [
    "### Бакетное преобразование"
   ]
  },
  {
   "cell_type": "code",
   "execution_count": 13,
   "id": "1ca41916-ec6d-4196-bb16-a0e742a4cc4c",
   "metadata": {},
   "outputs": [
    {
     "data": {
      "text/plain": [
       "MannwhitneyuResult(statistic=1997.0, pvalue=2.6576427804010095e-07)"
      ]
     },
     "execution_count": 13,
     "metadata": {},
     "output_type": "execute_result"
    }
   ],
   "source": [
    "q = \"\"\"\n",
    "\n",
    "SELECT exp_group, bucket,\n",
    "    sum(likes)/sum(views) as bucket_ctr\n",
    "FROM (SELECT exp_group, \n",
    "        xxHash64(user_id)%50 as bucket,\n",
    "        user_id,\n",
    "        sum(action = 'like') as likes,\n",
    "        sum(action = 'view') as views,\n",
    "        likes/views as ctr\n",
    "    FROM {db}.feed_actions \n",
    "    WHERE toDate(time) between '2025-05-02' and '2025-05-08'\n",
    "        and exp_group in (1,2)\n",
    "    GROUP BY exp_group, bucket, user_id)\n",
    "GROUP BY exp_group, bucket\n",
    "\"\"\"\n",
    "\n",
    "df = pandahouse.read_clickhouse(q, connection=connection)\n",
    "\n",
    "#тест Манна-Уитни видит отличие\n",
    "stats.mannwhitneyu(df[df.exp_group == 1].bucket_ctr, \n",
    "                   df[df.exp_group == 2].bucket_ctr, \n",
    "                   alternative = 'two-sided')"
   ]
  },
  {
   "cell_type": "code",
   "execution_count": 14,
   "id": "e91fc014-3670-4bdb-a83b-dd95103ea6fe",
   "metadata": {},
   "outputs": [
    {
     "data": {
      "text/plain": [
       "Ttest_indResult(statistic=5.614819358149381, pvalue=4.592644937473873e-07)"
      ]
     },
     "execution_count": 14,
     "metadata": {},
     "output_type": "execute_result"
    }
   ],
   "source": [
    "# t-test\n",
    "stats.ttest_ind(df[df.exp_group==1].bucket_ctr,\n",
    "                df[df.exp_group==2].bucket_ctr,\n",
    "                equal_var=False)"
   ]
  },
  {
   "cell_type": "code",
   "execution_count": 15,
   "id": "06718145-6ed7-48ef-bf14-4f44dcf7851b",
   "metadata": {},
   "outputs": [
    {
     "data": {
      "text/plain": [
       "<Axes: xlabel='bucket_ctr', ylabel='Count'>"
      ]
     },
     "execution_count": 15,
     "metadata": {},
     "output_type": "execute_result"
    },
    {
     "data": {
      "image/png": "[encoded data removed]",
      "text/plain": [
       "<Figure size 432x288 with 1 Axes>"
      ]
     },
     "metadata": {
      "needs_background": "light"
     },
     "output_type": "display_data"
    }
   ],
   "source": [
    "sns.histplot(df[df.exp_group == 1].bucket_ctr)\n",
    "sns.histplot(df[df.exp_group == 2].bucket_ctr)"
   ]
  },
  {
   "cell_type": "markdown",
   "id": "3f7ec535-91c9-4f17-80f6-f392c6ccdcc9",
   "metadata": {},
   "source": [
    "### Выводы"
   ]
  },
  {
   "cell_type": "markdown",
   "id": "ff673ed6-1ff5-47bd-9807-a22d23a85583",
   "metadata": {},
   "source": [
    "1. Все тесты, за исключением t-теста на индивидуальных CTR, показывают наличие статестически значимого различия. Возможная причина - ненормальность распределения exp_goup = 2. Тесты поверх Пуасоновского бутстрепа и бакетного преобразования показали меньшую чувствительность к распределению генеральной совокупности. \n",
    "2. Новая рекомендательная система \"разбила\" пользователей на две подгруппы: в одной CTR упал, в другой - вырос. \n",
    "3. Оценка общегруппового CTR показывает статестически значимое изменение - новая рекомендательная система дала эффект и он отрицательный. "
   ]
  },
  {
   "cell_type": "markdown",
   "id": "339f831a-1955-4396-a345-bddd494481ef",
   "metadata": {},
   "source": [
    "\n"
   ]
  }
 ],
 "metadata": {
  "kernelspec": {
   "display_name": "Python 3 (ipykernel)",
   "language": "python",
   "name": "python3"
  },
  "language_info": {
   "codemirror_mode": {
    "name": "ipython",
    "version": 3
   },
   "file_extension": ".py",
   "mimetype": "text/x-python",
   "name": "python",
   "nbconvert_exporter": "python",
   "pygments_lexer": "ipython3",
   "version": "3.8.10"
  }
 },
 "nbformat": 4,
 "nbformat_minor": 5
}
